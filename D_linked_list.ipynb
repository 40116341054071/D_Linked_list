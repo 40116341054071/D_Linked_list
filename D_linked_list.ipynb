{
  "nbformat": 4,
  "nbformat_minor": 0,
  "metadata": {
    "colab": {
      "provenance": [],
      "mount_file_id": "1kfcYa47aHWpvFNunOqwCoezezVLDzmi4",
      "authorship_tag": "ABX9TyP2HVNZomEpqNdrh3A488Bv",
      "include_colab_link": true
    },
    "kernelspec": {
      "name": "python3",
      "display_name": "Python 3"
    },
    "language_info": {
      "name": "python"
    }
  },
  "cells": [
    {
      "cell_type": "markdown",
      "metadata": {
        "id": "view-in-github",
        "colab_type": "text"
      },
      "source": [
        "<a href=\"https://colab.research.google.com/github/40116341054071/D_Linked_list/blob/main/D_linked_list.ipynb\" target=\"_parent\"><img src=\"https://colab.research.google.com/assets/colab-badge.svg\" alt=\"Open In Colab\"/></a>"
      ]
    },
    {
      "cell_type": "code",
      "execution_count": null,
      "metadata": {
        "id": "4vv9Txrw9HuI"
      },
      "outputs": [],
      "source": [
        "class dnode:\n",
        "  def __init__(self,data):\n",
        "    self.data = data\n",
        "    self.next = None\n",
        "    self.prev = None\n",
        "\n",
        "class dlinkedlist:\n",
        "  def __init__(self):\n",
        "    self.head = None\n",
        "\n",
        "#تابع نمایش دادن لیست\n",
        "  def display(self):\n",
        "    t = self.head\n",
        "    while (t != None):\n",
        "      print(t.data , end=\"<-->\")\n",
        "      t = t.next\n",
        "    print = (\"None\")\n",
        "\n",
        "#تابع اضافه کردن به اول لیست\n",
        "  def addinstart(self , data):\n",
        "    n = dnode(data)\n",
        "    if self.head != None:\n",
        "      n.next = self.head\n",
        "      self.head.prev = n\n",
        "      self.head = n\n",
        "\n",
        "#تابع اضافه کردن به آخر لیست\n",
        "  def addinlast(self , data):\n",
        "    n = dnode(data)\n",
        "    if self.head != None:\n",
        "      t = self.head\n",
        "      while (t.next != None):\n",
        "        t = t.next\n",
        "      t.next = n\n",
        "      n.prev = t\n",
        "    else:\n",
        "      self.head = n\n",
        "\n",
        "\n",
        "#تابع اضافه کردن به وسط لیست\n",
        "  def addafter(self , m , d):\n",
        "    n = dnode(d)\n",
        "    t = self.head\n",
        "    while (t.data != m):\n",
        "      t = t.next\n",
        "    n.next = t.next\n",
        "    n.prev = t\n",
        "    t.next = n\n",
        "    n.next.prev = n\n",
        "\n",
        "#تابع پاک کردن از ابتدای لیست\n",
        "  def delfirst(self):\n",
        "    if(self.head == None):\n",
        "      return -1\n",
        "    self.head = self.head.next\n",
        "    self.head.prev = None\n",
        "\n",
        "#تابع پاک کردن از آخر لیست\n",
        "  def dellast(self):\n",
        "    if(self.head == None):\n",
        "      return -1\n",
        "    t = self.head\n",
        "    while t.next != None:\n",
        "      t = t.next\n",
        "    t.prev.next = None\n",
        "    t.prev = None\n",
        "\n",
        "\n",
        "# تابع پاک کردن یک دیتا\n",
        "  def delet(self,d):\n",
        "    t = self.head\n",
        "    while t.data != d:\n",
        "      t = t.next\n",
        "    t.next.prev = t.prev\n",
        "    t.prev.next = t.next\n",
        "    t.next = None\n",
        "    t.prev = None\n",
        "#تابعی بنویسد که عنصر میانی یک لیست پیوندی دو طرفه را حذف کند\n",
        "  def delmid(self):\n",
        "    t = self.head\n",
        "    count=0\n",
        "    while t!=None:\n",
        "      t = t.next\n",
        "      count+=1\n",
        "      t = self.head\n",
        "    if count % 2 == 0:\n",
        "      for i in range (count // 2):\n",
        "        t = t.next\n",
        "    else:\n",
        "      for i in range(count//2+1):\n",
        "        t = t.next\n",
        "      t.next.prev = t.prev\n",
        "      t.prev.next = t.next\n",
        "      t.next = None\n",
        "      t.prev = None"
      ]
    },
    {
      "cell_type": "code",
      "source": [
        "from google.colab import drive\n",
        "drive.mount('/content/drive')"
      ],
      "metadata": {
        "id": "hGCIr11j9ShT"
      },
      "execution_count": null,
      "outputs": []
    }
  ]
}